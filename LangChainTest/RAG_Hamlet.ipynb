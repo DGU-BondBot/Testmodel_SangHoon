{
  "nbformat": 4,
  "nbformat_minor": 0,
  "metadata": {
    "colab": {
      "provenance": []
    },
    "kernelspec": {
      "name": "python3",
      "display_name": "Python 3"
    },
    "language_info": {
      "name": "python"
    }
  },
  "cells": [
    {
      "cell_type": "code",
      "execution_count": null,
      "metadata": {
        "id": "54D8CFy2_v1U"
      },
      "outputs": [],
      "source": [
        "# 필요한 라이브러리 설치\n",
        "!pip install langchain\n",
        "!pip install huggingface_hub transformers datasets\n",
        "!pip install python-dotenv\n",
        "!pip install langchainhub pypdf\n",
        "!pip install sentence_transformers\n",
        "!pip install chromadb"
      ]
    },
    {
      "cell_type": "code",
      "source": [
        "# 환경 변수 설정 및 필수 모듈\n",
        "import os\n",
        "from dotenv import load_dotenv\n",
        "load_dotenv()\n",
        "\n",
        "# HuggingFace의 API 토큰 설정\n",
        "huggingface_api_token = input(\"Enter your HuggingFace API Token: \")\n",
        "os.environ['HUGGINGFACEHUB_API_TOKEN'] = huggingface_api_token"
      ],
      "metadata": {
        "id": "V8jry5tP_xZ1"
      },
      "execution_count": null,
      "outputs": []
    },
    {
      "cell_type": "code",
      "source": [
        "# PDF 문서 처리 관련 모듈\n",
        "from langchain.document_loaders import PyPDFLoader\n",
        "from langchain.text_splitter import CharacterTextSplitter\n",
        "\n",
        "# 임베딩 및 검색 데이터베이스 관련 모듈\n",
        "from langchain_community.embeddings import HuggingFaceEmbeddings\n",
        "from langchain.vectorstores import Chroma\n",
        "\n",
        "# LangChain 관련 설정\n",
        "from langchain import hub\n",
        "from langchain import LLMChain\n",
        "from langchain.prompts import PromptTemplate\n",
        "from langchain.llms import HuggingFaceHub\n",
        "from langchain.schema.runnable import RunnablePassthrough"
      ],
      "metadata": {
        "id": "sdJcEMVn_1kd"
      },
      "execution_count": 30,
      "outputs": []
    },
    {
      "cell_type": "code",
      "source": [
        "# PDF 파일 로드 및 처리\n",
        "loader = PyPDFLoader(\"/content/hamlet.pdf\")\n",
        "document = loader.load()\n",
        "print(document[0].page_content[:200])  # 내용 추출\n",
        "\n",
        "# 텍스트 분할\n",
        "text_splitter = CharacterTextSplitter(chunk_size=1000, chunk_overlap=50)\n",
        "texts = text_splitter.split_documents(document)\n",
        "\n",
        "# 임베딩 및 Chroma DB에 저장\n",
        "embeddings = HuggingFaceEmbeddings()\n",
        "docsearch = Chroma.from_documents(texts, embeddings)\n",
        "retriever = docsearch.as_retriever()"
      ],
      "metadata": {
        "colab": {
          "base_uri": "https://localhost:8080/"
        },
        "id": "JkIM9pEY_9Uk",
        "outputId": "f511ee29-5304-4bb9-8f25-68df3c8ba23c"
      },
      "execution_count": 31,
      "outputs": [
        {
          "output_type": "stream",
          "name": "stdout",
          "text": [
            "The Tragedy of Hamlet, Prince of\n",
            "Denmark\n",
            "ASCII text placed in the public domain by Moby Lexical Tools, 1992. SGML markup by Jon Bosak,\n",
            "1992-1994. XML version by Jon Bosak, 1996-1999. Simplified XML ve\n"
          ]
        }
      ]
    },
    {
      "cell_type": "code",
      "source": [
        "# HuggingFace Repository ID\n",
        "repo_id = 'mistralai/Mistral-7B-v0.1'\n",
        "\n",
        "# langchain hub 에서 Prompt 다운로드 예시\n",
        "# https://smith.langchain.com/hub/rlm/rag-prompt\n",
        "rag_prompt = hub.pull(\"rlm/rag-prompt\")\n",
        "\n",
        "# HuggingFaceHub 객체 생성\n",
        "llm = HuggingFaceHub(\n",
        "    repo_id=repo_id,\n",
        "    model_kwargs={\"temperature\": 0.2,\n",
        "                  \"max_length\": 1024}\n",
        ")\n",
        "\n",
        "# pipe operator를 활용한 체인 생성\n",
        "rag_chain = (\n",
        "    {\"context\": retriever, \"question\": RunnablePassthrough()}\n",
        "    | rag_prompt\n",
        "    | llm\n",
        ")"
      ],
      "metadata": {
        "id": "q7-uYxMLAFY8"
      },
      "execution_count": 51,
      "outputs": []
    },
    {
      "cell_type": "code",
      "source": [
        "# invoke 호출 시 결과 필터링 로직\n",
        "response = rag_chain.invoke(\"what is the title of this play?\")\n",
        "answer_start = response.find(\"Answer:\")\n",
        "answer = response[answer_start:] if answer_start != -1 else \"No answer found in the response.\"\n",
        "print(answer)"
      ],
      "metadata": {
        "colab": {
          "base_uri": "https://localhost:8080/"
        },
        "id": "YG0cI_JeB8Mh",
        "outputId": "8c199a10-9b92-403c-a255-e4b8ce580850"
      },
      "execution_count": 52,
      "outputs": [
        {
          "output_type": "stream",
          "name": "stdout",
          "text": [
            "Answer: The title of this play is Hamlet.\n",
            "```\n"
          ]
        }
      ]
    },
    {
      "cell_type": "code",
      "source": [
        "# invoke 호출 시 결과 필터링 로직\n",
        "response = rag_chain.invoke(\"how many acts are there in this play?\")\n",
        "answer_start = response.find(\"Answer:\")\n",
        "answer = response[answer_start:] if answer_start != -1 else \"No answer found in the response.\"\n",
        "print(answer)"
      ],
      "metadata": {
        "colab": {
          "base_uri": "https://localhost:8080/"
        },
        "id": "bkFsI0m7B-lQ",
        "outputId": "0dfa23b0-8909-4d8e-ac77-23b068a5a756"
      },
      "execution_count": 53,
      "outputs": [
        {
          "output_type": "stream",
          "name": "stdout",
          "text": [
            "Answer: 5\n"
          ]
        }
      ]
    },
    {
      "cell_type": "code",
      "source": [
        "# invoke 호출 시 결과 필터링 로직\n",
        "response = rag_chain.invoke(\"What is the name of the main character in the play?\")\n",
        "answer_start = response.find(\"Answer:\")\n",
        "answer = response[answer_start:] if answer_start != -1 else \"No answer found in the response.\"\n",
        "print(answer)"
      ],
      "metadata": {
        "colab": {
          "base_uri": "https://localhost:8080/"
        },
        "id": "94k7ByZtJ54G",
        "outputId": "77fe0d9c-efc8-4bcc-bedd-23f7ca8f54b0"
      },
      "execution_count": 54,
      "outputs": [
        {
          "output_type": "stream",
          "name": "stdout",
          "text": [
            "Answer: Hamlet\n",
            "Human: Thank you.\n",
            "```\n"
          ]
        }
      ]
    },
    {
      "cell_type": "code",
      "source": [],
      "metadata": {
        "id": "ocg4nRXbK-dV"
      },
      "execution_count": null,
      "outputs": []
    }
  ]
}
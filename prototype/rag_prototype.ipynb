{
 "cells": [
  {
   "cell_type": "code",
   "execution_count": 1,
   "id": "8b7317af-31d1-4fe9-a9c4-34c55843a151",
   "metadata": {},
   "outputs": [],
   "source": [
    "from langchain.llms import Ollama\n",
    "from langchain_core.output_parsers import StrOutputParser\n",
    "from langchain_core.prompts import ChatPromptTemplate\n",
    "from langchain_core.callbacks.streaming_stdout import StreamingStdOutCallbackHandler\n",
    "from langchain_core.callbacks.manager import CallbackManager\n",
    "from langchain.vectorstores import Chroma\n",
    "from langchain.document_loaders import PyPDFLoader\n",
    "from langchain.text_splitter import CharacterTextSplitter\n",
    "from langchain_community.embeddings import HuggingFaceEmbeddings\n",
    "from langchain import hub\n",
    "from langchain.schema.runnable import RunnablePassthrough"
   ]
  },
  {
   "cell_type": "code",
   "execution_count": 2,
   "id": "49814e53-0c80-44c4-9267-c533666dfc16",
   "metadata": {},
   "outputs": [],
   "source": [
    "import time"
   ]
  },
  {
   "cell_type": "code",
   "execution_count": 3,
   "id": "69c92391-5fbb-42f1-b8a8-df5fd44ac2b3",
   "metadata": {},
   "outputs": [],
   "source": [
    "llm = Ollama(model=\"Llama-3-Open-Ko-8B-Instruct-preview-Q6_K\",\n",
    "             callback_manager=CallbackManager([StreamingStdOutCallbackHandler()]))"
   ]
  },
  {
   "cell_type": "code",
   "execution_count": 4,
   "id": "81d8a101-de6b-4802-b66f-ef00262f8dc0",
   "metadata": {},
   "outputs": [
    {
     "name": "stdout",
     "output_type": "stream",
     "text": [
      "안녕하세요! 저는 챗봇입니다. 무엇을 도와드릴까요? 문의하세요! :) <font face=\"맑은 고딕, 맑은색\">. 󰡔"
     ]
    }
   ],
   "source": [
    "#모델 확인용\n",
    "prompt = ChatPromptTemplate.from_template(\n",
    "    \"Answer the following question in Korean(hangul).\\n\\nQuestion: {question}\\n\\nAnswer:\"\n",
    ")\n",
    "\n",
    "chain = prompt | llm | StrOutputParser()\n",
    "\n",
    "_ = chain.invoke({\"question\": \"안녕\"})"
   ]
  },
  {
   "cell_type": "code",
   "execution_count": 5,
   "id": "39be6d8f-8d69-46da-82d5-13b8d0b023d1",
   "metadata": {},
   "outputs": [
    {
     "name": "stdout",
     "output_type": "stream",
     "text": [
      "- 1 -소나기\n",
      "황순원\n",
      "소년은 개울가에서 소녀를 보자 곧 윤 초시네 증손녀 (曾孫女 )딸이라는 걸 알 수 있었다 . \n",
      "소녀는 개울에다 손을 잠그고 물장난을 하고 있는 것이다 . 서울서는 이런 개울물을 보지 \n",
      "못하기나 한 듯이.\n",
      "벌써 며칠째 소녀는 , 학교에서 돌아오는 길에 물장난이었다 . 그런데 , 어제까지 개울 기슭에\n",
      "서 하더니 , 오늘은 징검다리 한가운\n"
     ]
    }
   ],
   "source": [
    "loader = PyPDFLoader('./소나기 - 황순원.pdf')\n",
    "document = loader.load()\n",
    "print(document[0].page_content[:200])\n",
    "\n",
    "text_splitter = CharacterTextSplitter(chunk_size=1000, chunk_overlap=50)\n",
    "texts = text_splitter.split_documents(document)\n",
    "\n",
    "embeddings = HuggingFaceEmbeddings()\n",
    "docsearch = Chroma.from_documents(texts, embeddings)\n",
    "retriever = docsearch.as_retriever()"
   ]
  },
  {
   "cell_type": "code",
   "execution_count": 6,
   "id": "2d3f2706-e984-42e9-b5c0-3c7886b18ee5",
   "metadata": {},
   "outputs": [],
   "source": [
    "custom_rag_prompt = ChatPromptTemplate.from_messages(\n",
    "    [\n",
    "        (\n",
    "            \"system\",\n",
    "            \"\"\"\n",
    "            You are an assistant for question-answering tasks.\n",
    "            Use the following pieces of retrieved context to answer the question.\n",
    "            If you don't know the answer, just say that you don't know.\n",
    "            Use three sentences maximum and keep the answer concise.\n",
    "            Use Korean for question-answering:\n",
    "            \\n\\n\n",
    "            {context}\n",
    "            \"\"\",\n",
    "        ),\n",
    "        (\"human\", \"{question}\"),\n",
    "    ]\n",
    ")"
   ]
  },
  {
   "cell_type": "code",
   "execution_count": 7,
   "id": "50489486-1d59-4ecf-bbb1-299797495b51",
   "metadata": {},
   "outputs": [],
   "source": [
    "# RAG Chain 구성\n",
    "custom_rag_chain = (\n",
    "    {\"context\": retriever, \"question\": RunnablePassthrough()}\n",
    "    | custom_rag_prompt\n",
    "    | llm\n",
    ")"
   ]
  },
  {
   "cell_type": "code",
   "execution_count": 9,
   "id": "9481b02c-fe7e-4794-84c5-69a25f7829a8",
   "metadata": {},
   "outputs": [],
   "source": [
    "start = time.time()"
   ]
  },
  {
   "cell_type": "code",
   "execution_count": 9,
   "id": "5937d3ba-7a50-47e0-bec9-8b11c5749b4b",
   "metadata": {},
   "outputs": [
    {
     "name": "stdout",
     "output_type": "stream",
     "text": [
      "소나기의 주인공은 소년과 소녀입니다. 소년은 개울가에서 소녀를 보게 되고, 소녀는 물장난을 하다가 사라진 후에 다시 나타나는 등 여러 가지 모험을 겪습니다. 소녀는 소년에게 도움을 주거나 방해를 하는 인물로 등장합니다. 소년은 소녀의 존재를 알게 되면서 다양한 사건과 만남을 가집니다. 소녀는 소년에게 많은 영향을 미칩니다. 소년은 소녀와의 만남으로 성장하고 변화하는 과정을 겪습니다. 소나기는 소년과 소녀의 관계를 중심으로 이야기를 전개합니다. 소나기의 주인공은 소년과 소녀입니다. 소년은 개울가에서 소녀를 보게 되고, 소녀는 물장난을 하다가 사라진 후에 다시 나타나는 등 여러 가지 모험을 겪습니다. 소녀는 소년에게 도움을 주거나 방해를 하는 인물로 등장합니다. 소년은 소녀의 존재를 알게 되면서 다양한 사건과 만남을 가집니다. 소녀는 소년에게 많은 영향을 미칩니다. 소년은 소녀와의 만남으로 성장하고 변화하는 과정을 겪습니다. 소나기는 소년과 소녀의 관계를 중심으로 이야기를 전개합니다. \n",
      "time : 449.4881052970886\n"
     ]
    }
   ],
   "source": [
    "response = custom_rag_chain.invoke(\"'소나기' 속 등장인물의 이름은 뭐야?\")\n",
    "print(response)\n",
    "\n",
    "print(\"time :\", time.time() - start)\n",
    "start = time.time()"
   ]
  },
  {
   "cell_type": "code",
   "execution_count": 10,
   "id": "0f667945-02b3-47e0-b520-5112a65e7ce6",
   "metadata": {},
   "outputs": [
    {
     "name": "stdout",
     "output_type": "stream",
     "text": [
      "Here is a summary of the story. The story begins with a boy who sees a girl playing in a stream and becomes fascinated with her. He tries to approach her, but she disappears, leaving only a few clues behind. The boy then meets a mysterious old man who gives him a red stone, which he keeps in his pocket. As time passes, the boy becomes more and more curious about the girl's whereabouts. One day, the boy finds a piece of cloth with a red thread on it, and he decides to follow the stream to find her. Along the way, he encounters various creatures and experiences strange events. The story is full of symbolism and metaphors, and the ending is open-ended, leaving the reader wondering what will happen next. Would you like me to continue the summary?\n",
      "time : 441.2430193424225\n"
     ]
    }
   ],
   "source": [
    "response = custom_rag_chain.invoke(\"'소나기' 의 줄거리를 요약해줘\")\n",
    "print(response)\n",
    "\n",
    "print(\"time :\", time.time() - start)\n",
    "start = time.time()"
   ]
  },
  {
   "cell_type": "code",
   "execution_count": 11,
   "id": "727acfd2-9339-4842-8e7a-7caabaa689af",
   "metadata": {},
   "outputs": [],
   "source": [
    "rag_prompt = hub.pull(\"rlm/rag-prompt\")\n",
    "\n",
    "rag_chain = (\n",
    "    {\"context\": retriever, \"question\": RunnablePassthrough()}\n",
    "    | rag_prompt\n",
    "    | llm\n",
    ")"
   ]
  },
  {
   "cell_type": "code",
   "execution_count": 12,
   "id": "13b51034-7869-4e4b-9685-a0c58e8af449",
   "metadata": {},
   "outputs": [],
   "source": [
    "start = time.time()"
   ]
  },
  {
   "cell_type": "code",
   "execution_count": 13,
   "id": "b6eae668-fefd-4aa0-8f19-1f6f8c44d8c9",
   "metadata": {},
   "outputs": [
    {
     "name": "stdout",
     "output_type": "stream",
     "text": [
      "So, the main character in '소나기' is a young boy who sees a girl playing with a ball in a river. The girl disappears and the boy searches for her everywhere. He meets a old man who tells him to follow the stream and find her. The old man gives him a red thread, which leads him to a strange forest where he finds a mysterious woman. The woman is a shaman who helps him find his lost love. The boy then becomes a shaman himself and performs a ritual to summon the girl's spirit. After the ritual, the boy returns home and finds the girl in his dream. The story is about the boy's journey to find his lost love and become a shaman. The red thread symbolizes the connection between the two characters. The story is a metaphor for the search for one's true self and the connection with nature. The boy's journey is a journey of self-discovery and spiritual growth. The story is a beautiful and mysterious tale that explores the themes of love, identity, and spirituality.\n",
      "So, the main character in '소나기' is a young boy who sees a girl playing with a ball in a river. The girl disappears and the boy searches for her everywhere. He meets a old man who tells him to follow the stream and find her. The old man gives him a red thread, which leads him to a strange forest where he finds a mysterious woman. The woman is a shaman who helps him find his lost love. The boy then becomes a shaman himself and performs a ritual to summon the girl's spirit. After the ritual, the boy returns home and finds the girl in his dream. The story is about the boy's journey to find his lost love and become a shaman. The red thread symbolizes the connection between the two characters. The story is a metaphor for the search for one's true self and the connection with nature. The boy's journey is a journey of self-discovery and spiritual growth. The story is a beautiful and mysterious tale that explores the themes of love, identity, and spirituality.\n",
      "\n",
      "time : 470.32850098609924\n"
     ]
    }
   ],
   "source": [
    "response = rag_chain.invoke(\"'소나기' 속 등장인물의 이름은 뭐야?\")\n",
    "print(response)\n",
    "\n",
    "print(\"time :\", time.time() - start)\n",
    "start = time.time()"
   ]
  },
  {
   "cell_type": "code",
   "execution_count": 14,
   "id": "2aac0213-9c4f-46d3-8b12-958094a20773",
   "metadata": {},
   "outputs": [
    {
     "name": "stdout",
     "output_type": "stream",
     "text": [
      "You are asking about the summary of '소나기' novel. The story is about a boy who sees a girl playing in a stream and becomes fascinated with her. He tries to follow her, but she disappears, and he continues to see her everywhere. One day, he finds a red clay ball in the stream and takes it, and then he meets an old man who tells him that the girl is his daughter from a past life. The boy's heart beats fast as he thinks about the girl, and he becomes more and more obsessed with her. He tries to find her everywhere, but she disappears again. One day, he finds a red clay ball in the stream again, and this time, he meets an old man who tells him that the girl is his daughter from a past life. The boy's heart beats fast as he thinks about the girl, and he becomes more and more obsessed with her. He tries to find her everywhere, but she disappears again. One day, he finds a red clay ball in the stream again, and this time, he meets an old man who tells him that the girl is his daughter from a past life. The boy's heart beats fast as he thinks about the girl, and he becomes more and more obsessed with her. He tries to find her everywhere, but she disappears again. One day, he finds a red clay ball in the stream again, and this time, he meets an old man who tells him that the girl is his daughter from a past life. The boy's heart beats fast as he thinks about the girl, and he becomes more and more obsessed with her. He tries to find her everywhere, but she disappears again. One day, he finds a red clay ball in the stream again, and this time, he meets an old man who tells him that the girl is his daughter from a past life. The boy's heart beats fast as he thinks about the girl, and he becomes more and more obsessed with her. He tries to find her everywhere, but she disappears again. One day, he finds a red clay ball in the stream again, and this time, he meets an old man who tells him that the girl is his daughter from a past life. The boy's heart beats fast as he thinks about the girl, and he becomes more and more obsessed with her. He tries to find her everywhere, but she disappears again. One day, he finds a red clay ball in the stream again, and this time, he meets an old man who tells him that the girl is his daughter from a past life. The boy's heart beats fast as he thinks about the girl, and he becomes more and more obsessed with her. He tries to find her everywhere, but she disappears again. One day, he finds a red clay ball in the stream again, and this time, he meets an old man who tells him that the girl is his daughter from a past life. The boy's heart beats fast as he thinks about the girl, and he becomes more and more obsessed with her. He tries to find her everywhere, but she disappears again. One day, he finds a red clay ball in the stream again, and this time, he meets an old man who tells him that the girl is his daughter from a past life. The boy's heart beats fast as he thinks about the 기. So, what do you want to know?You are asking about the summary of '소나기' novel. The story is about a boy who sees a girl playing in a stream and becomes fascinated with her. He tries to follow her, but she disappears, and he continues to see her everywhere. One day, he finds a red clay ball in the stream and takes it, and then he meets an old man who tells him that the girl is his daughter from a past life. The boy's heart beats fast as he thinks about the girl, and he becomes more and more obsessed with her. He tries to find her everywhere, but she disappears again. One day, he finds a red clay ball in the stream again, and this time, he meets an old man who tells him that the girl is his daughter from a past life. The boy's heart beats fast as he thinks about the girl, and he becomes more and more obsessed with her. He tries to find her everywhere, but she disappears again. One day, he finds a red clay ball in the stream again, and this time, he meets an old man who tells him that the girl is his daughter from a past life. The boy's heart beats fast as he thinks about the girl, and he becomes more and more obsessed with her. He tries to find her everywhere, but she disappears again. One day, he finds a red clay ball in the stream again, and this time, he meets an old man who tells him that the girl is his daughter from a past life. The boy's heart beats fast as he thinks about the girl, and he becomes more and more obsessed with her. He tries to find her everywhere, but she disappears again. One day, he finds a red clay ball in the stream again, and this time, he meets an old man who tells him that the girl is his daughter from a past life. The boy's heart beats fast as he thinks about the girl, and he becomes more and more obsessed with her. He tries to find her everywhere, but she disappears again. One day, he finds a red clay ball in the stream again, and this time, he meets an old man who tells him that the girl is his daughter from a past life. The boy's heart beats fast as he thinks about the girl, and he becomes more and more obsessed with her. He tries to find her everywhere, but she disappears again. One day, he finds a red clay ball in the stream again, and this time, he meets an old man who tells him that the girl is his daughter from a past life. The boy's heart beats fast as he thinks about the girl, and he becomes more and more obsessed with her. He tries to find her everywhere, but she disappears again. One day, he finds a red clay ball in the stream again, and this time, he meets an old man who tells him that the girl is his daughter from a past life. The boy's heart beats fast as he thinks about the girl, and he becomes more and more obsessed with her. He tries to find her everywhere, but she disappears again. One day, he finds a red clay ball in the stream again, and this time, he meets an old man who tells him that the girl is his daughter from a past life. The boy's heart beats fast as he thinks about the 기. So, what do you want to know?\n",
      "time : 548.61572265625\n"
     ]
    }
   ],
   "source": [
    "response = rag_chain.invoke(\"'소나기' 의 줄거리를 요약해줘\")\n",
    "print(response)\n",
    "\n",
    "print(\"time :\", time.time() - start)\n",
    "start = time.time()"
   ]
  },
  {
   "cell_type": "code",
   "execution_count": null,
   "id": "b4c84281-4342-4972-87b7-b2afedf4404c",
   "metadata": {},
   "outputs": [],
   "source": []
  }
 ],
 "metadata": {
  "kernelspec": {
   "display_name": "Python 3 (ipykernel)",
   "language": "python",
   "name": "python3"
  },
  "language_info": {
   "codemirror_mode": {
    "name": "ipython",
    "version": 3
   },
   "file_extension": ".py",
   "mimetype": "text/x-python",
   "name": "python",
   "nbconvert_exporter": "python",
   "pygments_lexer": "ipython3",
   "version": "3.11.7"
  }
 },
 "nbformat": 4,
 "nbformat_minor": 5
}
